{
 "cells": [
  {
   "cell_type": "markdown",
   "id": "986d144f-3f19-4aac-ba1b-423fde33b929",
   "metadata": {},
   "source": [
    "# Imports"
   ]
  },
  {
   "cell_type": "code",
   "execution_count": 3,
   "id": "db59f521-ebed-4bfd-afb6-958c4c0e7260",
   "metadata": {},
   "outputs": [],
   "source": [
    "from sklearn.metrics import classification_report\n",
    "from sklearn.model_selection import train_test_split, GridSearchCV\n",
    "from sklearn.pipeline import Pipeline, make_pipeline\n",
    "from sklearn.linear_model import ARDRegression\n",
    "from sklearn.preprocessing import LabelEncoder\n",
    "import pandas\n",
    "import numpy\n",
    "import data_massage\n",
    "import itertools\n",
    "import matplotlib.pyplot as plt"
   ]
  },
  {
   "cell_type": "code",
   "execution_count": 4,
   "id": "e626d464-c60f-4c4d-9a0b-21d44d6b4db3",
   "metadata": {},
   "outputs": [],
   "source": [
    "metadata, full_data, induction_only = data_massage.load_data()\n",
    "summarized_data = data_massage.summarize_data(metadata, induction_only)"
   ]
  },
  {
   "cell_type": "code",
   "execution_count": 5,
   "id": "25c9969a-aed8-4a59-9926-80181015d87a",
   "metadata": {},
   "outputs": [],
   "source": [
    "var_data = summarized_data\n",
    "var_features = var_data[[\"R_mean_mean\", \"Temp_mean\", \"Humidity_mean\"]]\n",
    "\n",
    "var_train_x, var_test_x, var_train_y, var_test_y = train_test_split(\n",
    "      var_features\n",
    "    , var_data[\"class\"]\n",
    "    , test_size=0.2\n",
    "    , stratify=var_data[\"class\"]\n",
    "    , random_state=7\n",
    ")\n",
    "\n",
    "label_encoder = LabelEncoder()\n",
    "label_encoder.fit(var_data[\"class\"])\n",
    "var_train_y = label_encoder.transform(var_train_y)\n",
    "var_test_y = label_encoder.transform(var_test_y)"
   ]
  },
  {
   "cell_type": "code",
   "execution_count": 6,
   "id": "15b3c2da-8289-431f-9bec-5adc77ca8c46",
   "metadata": {},
   "outputs": [
    {
     "name": "stdout",
     "output_type": "stream",
     "text": [
      "{'model__alpha_1': 1e-07, 'model__alpha_2': 0.0001, 'model__lambda_1': 0.0001, 'model__lambda_2': 0.0001, 'model__tol': 0.1}\n"
     ]
    }
   ],
   "source": [
    "# create the grid search variables, but do not execute them\n",
    "var_training_pipeline = Pipeline(steps=[(\"model\", ARDRegression())])\n",
    "\n",
    "\n",
    "#ARDRegression(tol=0.001, alpha_1=1e-06, alpha_2=1e-06, lambda_1=1e-06, lambda_2=1e-06, threshold_lambda=10000.0, fit_intercept=True)\n",
    "\n",
    "var_param = [{\n",
    "    \"model__tol\": [1e-1, 1e-2, 1e-3, 1e-4],\n",
    "    \"model__alpha_1\": [1e-4, 1e-5, 1e-6, 1e-7],\n",
    "    \"model__alpha_2\": [1e-4, 1e-5, 1e-6, 1e-7],\n",
    "    \"model__lambda_1\": [1e-4, 1e-5, 1e-6, 1e-7],\n",
    "    \"model__lambda_2\": [1e-4, 1e-5, 1e-6, 1e-7],\n",
    "}]\n",
    "\n",
    "var_grid_search = GridSearchCV(estimator=var_training_pipeline, param_grid=var_param, cv=5, n_jobs=-1)\n",
    "var_grid_search.fit(var_train_x, var_train_y)\n",
    "print(var_grid_search.best_params_)"
   ]
  },
  {
   "cell_type": "code",
   "execution_count": 7,
   "id": "9ea6e013-9814-485b-ba75-1e069484cb9f",
   "metadata": {},
   "outputs": [
    {
     "name": "stdout",
     "output_type": "stream",
     "text": [
      "[1.13144278 1.1259493  1.04108529 1.27131245 0.95590671 1.27133738\n",
      " 0.93763112 1.50172718 1.1720562  0.89233736 1.03606909 1.18943282\n",
      " 1.18779212 1.18153056 1.04800253 1.1712328  1.12604499 0.95329933\n",
      " 1.27747054 1.08664717]\n",
      "[1 0 2 1 1 2 0 0 0 2 2 2 1 1 2 2 0 0 1 1]\n",
      "[ True False False  True  True False False False False False False False\n",
      "  True  True False False False False  True  True]\n"
     ]
    }
   ],
   "source": [
    "#ARDRegression(*, n_iter=300, tol=0.001, alpha_1=1e-06, alpha_2=1e-06, lambda_1=1e-06, lambda_2=1e-06, compute_score=False, threshold_lambda=10000.0, fit_intercept=True, normalize='deprecated', copy_X=True, verbose=False)\n",
    "var = ARDRegression(alpha_1=1e-07, alpha_2=0.0001, lambda_1 = 0.0001, lambda_2 = 0.0001, tol=0.1)\n",
    "var.fit(var_train_x, var_train_y)\n",
    "var_y_pred = var.predict(var_test_x)\n",
    "print(var_y_pred)\n",
    "print(var_test_y)\n",
    "print(numpy.round(var_y_pred) == var_test_y)\n",
    "#print(classification_report(var_test_y, var_y_pred, zero_division=0))"
   ]
  },
  {
   "cell_type": "code",
   "execution_count": 9,
   "id": "30c151c5-8128-4b65-b59d-4826f3d17f45",
   "metadata": {},
   "outputs": [
    {
     "data": {
      "text/plain": [
       "<matplotlib.collections.PathCollection at 0x7f5017e0bb20>"
      ]
     },
     "execution_count": 9,
     "metadata": {},
     "output_type": "execute_result"
    },
    {
     "data": {
      "image/png": "[encoded data removed]",
      "text/plain": [
       "<Figure size 640x480 with 1 Axes>"
      ]
     },
     "metadata": {},
     "output_type": "display_data"
    }
   ],
   "source": [
    "plt.scatter(numpy.round(var_y_pred), range(len(var_y_pred)))\n",
    "plt.scatter(var_test_y, range(len(var_y_pred)))"
   ]
  }
 ],
 "metadata": {
  "kernelspec": {
   "display_name": "Python 3 (ipykernel)",
   "language": "python",
   "name": "python3"
  },
  "language_info": {
   "codemirror_mode": {
    "name": "ipython",
    "version": 3
   },
   "file_extension": ".py",
   "mimetype": "text/x-python",
   "name": "python",
   "nbconvert_exporter": "python",
   "pygments_lexer": "ipython3",
   "version": "3.10.8"
  }
 },
 "nbformat": 4,
 "nbformat_minor": 5
}
