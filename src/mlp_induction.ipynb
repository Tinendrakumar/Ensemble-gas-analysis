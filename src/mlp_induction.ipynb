{
 "cells": [
  {
   "cell_type": "markdown",
   "id": "986d144f-3f19-4aac-ba1b-423fde33b929",
   "metadata": {},
   "source": [
    "# Imports"
   ]
  },
  {
   "cell_type": "code",
   "execution_count": null,
   "id": "db59f521-ebed-4bfd-afb6-958c4c0e7260",
   "metadata": {},
   "outputs": [],
   "source": [
    "from sklearn.model_selection import train_test_split\n",
    "from sklearn.preprocessing import LabelEncoder\n",
    "from sklearn.neural_network import MLPClassifier\n",
    "from sklearn.metrics import classification_report\n",
    "import pandas\n",
    "import numpy\n",
    "import data_massage\n",
    "import itertools\n",
    "import matplotlib.pyplot as plt"
   ]
  },
  {
   "cell_type": "code",
   "execution_count": null,
   "id": "e626d464-c60f-4c4d-9a0b-21d44d6b4db3",
   "metadata": {},
   "outputs": [],
   "source": [
    "metadata, full_data, induction_only = data_massage.load_data()\n",
    "summarized_data = data_massage.summarize_data(metadata, induction_only)\n",
    "\n",
    "mlp_data = induction_only\n",
    "features = sorted([\"R_mean\", \"Temp.\", \"Humidity\"])\n",
    "\n",
    "hidden_layers = tuple(map(lambda p: (len(features) ** p), [3,4,5,4,3]))\n",
    "feature_permutations = list(itertools.chain.from_iterable(map(lambda r: itertools.combinations(features, r), range(1, 1 + len(features)))))"
   ]
  },
  {
   "cell_type": "code",
   "execution_count": null,
   "id": "abbaac28-3466-4e49-ac2c-b85a192d1633",
   "metadata": {},
   "outputs": [],
   "source": [
    "results = {}\n",
    "\n",
    "for perm in feature_permutations:\n",
    "    feature_set = list(perm)\n",
    "    mlp_train_x, mlp_test_x, mlp_train_y, mlp_test_y = train_test_split(\n",
    "          mlp_data[feature_set]\n",
    "        , mlp_data[\"label\"]\n",
    "        , test_size=0.2\n",
    "        , stratify=mlp_data[\"label\"]\n",
    "        , random_state=7\n",
    "    )\n",
    "\n",
    "    label_encoder = LabelEncoder()\n",
    "    label_encoder.fit(mlp_train_y)\n",
    "    mlp_train_y = label_encoder.transform(mlp_train_y)\n",
    "    mlp_test_y = label_encoder.transform(mlp_test_y)\n",
    "    #MLPClassifier(hidden_layer_sizes=(100,),'activation='relu', *, solver='adam', alpha=0.0001, batch_size='auto', learning_rate='constant', learning_rate_init=0.001, power_t=0.5, max_iter=200, shuffle=True, random_state=None, tol=0.0001, verbose=False, warm_start=False, momentum=0.9, nesterovs_momentum=True, early_stopping=False, validation_fraction=0.1, beta_1=0.9, beta_2=0.999, epsilon=1e-08, n_iter_no_change=10, max_fun=15000)\n",
    "    mlp_model = MLPClassifier(hidden_layer_sizes=hidden_layers, activation='tanh', max_iter=10000, alpha=0.01, learning_rate='adaptive')\n",
    "    mlp_model.fit(mlp_train_x, mlp_train_y)\n",
    "    prediction = mlp_model.predict(mlp_test_x)\n",
    "    \n",
    "    key = ','.join(feature_set)\n",
    "    results[key] = {\"prediction\": prediction, \"report\": classification_report(mlp_test_y, prediction, zero_division=False)}\n",
    "    \n",
    "    print(key)\n",
    "    print(results[key][\"report\"])\n",
    "    print(\"\\n\\n\")"
   ]
  }
 ],
 "metadata": {
  "kernelspec": {
   "display_name": "Python 3 (ipykernel)",
   "language": "python",
   "name": "python3"
  },
  "language_info": {
   "codemirror_mode": {
    "name": "ipython",
    "version": 3
   },
   "file_extension": ".py",
   "mimetype": "text/x-python",
   "name": "python",
   "nbconvert_exporter": "python",
   "pygments_lexer": "ipython3",
   "version": "3.10.8"
  }
 },
 "nbformat": 4,
 "nbformat_minor": 5
}
