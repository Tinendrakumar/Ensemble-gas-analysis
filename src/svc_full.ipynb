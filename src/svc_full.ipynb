{
 "cells": [
  {
   "cell_type": "markdown",
   "id": "986d144f-3f19-4aac-ba1b-423fde33b929",
   "metadata": {},
   "source": [
    "# Imports"
   ]
  },
  {
   "cell_type": "code",
   "execution_count": 1,
   "id": "db59f521-ebed-4bfd-afb6-958c4c0e7260",
   "metadata": {},
   "outputs": [],
   "source": [
    "from sklearn.svm import SVC\n",
    "from sklearn.metrics import classification_report\n",
    "from sklearn.pipeline import Pipeline, make_pipeline\n",
    "from sklearn.model_selection import train_test_split, GridSearchCV\n",
    "import pandas\n",
    "import numpy\n",
    "import data_massage\n",
    "import itertools\n",
    "import matplotlib.pyplot as plt"
   ]
  },
  {
   "cell_type": "code",
   "execution_count": 2,
   "id": "e626d464-c60f-4c4d-9a0b-21d44d6b4db3",
   "metadata": {},
   "outputs": [],
   "source": [
    "metadata, full_data, induction_only = data_massage.load_data()\n",
    "summarized_data = data_massage.summarize_data(metadata, induction_only)"
   ]
  },
  {
   "cell_type": "code",
   "execution_count": 3,
   "id": "25c9969a-aed8-4a59-9926-80181015d87a",
   "metadata": {},
   "outputs": [],
   "source": [
    "svc_data = induction_only\n",
    "svc_features = [\"R_mean\", \"Temp.\", \"Humidity\"]\n",
    "\n",
    "svc_train_x, svc_test_x, svc_train_y, svc_test_y = train_test_split(\n",
    "      svc_data[svc_features]\n",
    "    , svc_data[\"label\"]\n",
    "    , test_size=0.2\n",
    "    , stratify=svc_data[\"label\"]\n",
    "    , random_state=7\n",
    ")\n",
    "\n",
    "\n",
    "# create the grid search variables, but do not execute them\n",
    "#svc_training_pipeline = Pipeline(steps=[(\"model\", SVC())])\n",
    "\n",
    "#svc_param = [{\n",
    "#    \"model__kernel\": [\"linear\", \"poly\", \"rbf\", \"sigmoid\"],\n",
    "#    \"model__gamma\": [\"scale\", \"auto\"],\n",
    "#    \"model__C\": [1, 2, 4, 5, 8, 10], \n",
    "#    \"model__tol\": [1e-2, 1e-3], ### model tolerance\n",
    "#    \"model__probability\": [True, False]\n",
    "#}]\n",
    "\n",
    "#svc_grid_search = GridSearchCV(estimator=svc_training_pipeline, param_grid=svc_param, cv=5, n_jobs=-1)\n",
    "#svc_grid_search.fit(svc_train_x, svc_train_y)\n",
    "#{'model__C': 1, 'model__gamma': 'scale', 'model__kernel': 'rbf', 'model__probability': True, 'model__tol': 0.01}\n",
    "#print(svc_grid_search.best_params_)"
   ]
  },
  {
   "cell_type": "code",
   "execution_count": null,
   "id": "9ea6e013-9814-485b-ba75-1e069484cb9f",
   "metadata": {},
   "outputs": [],
   "source": [
    "for kernel in [\"linear\", \"rbf\", \"sigmoid\", \"precomputed\", \"poly\"]:\n",
    "    try:\n",
    "        svc = SVC(C=1.0, gamma=\"auto\", kernel=kernel, probability=True, tol=0.01)\n",
    "        svc.fit(svc_train_x, svc_train_y)\n",
    "        svc_y_pred = svc.predict(svc_test_x)\n",
    "        print(kernel, classification_report(svc_test_y, svc_y_pred, zero_division=0))\n",
    "    except Exception as e:\n",
    "        print(\"failed on {} with {}\".format(kernel, e))\n",
    "        continue"
   ]
  }
 ],
 "metadata": {
  "kernelspec": {
   "display_name": "Python 3 (ipykernel)",
   "language": "python",
   "name": "python3"
  },
  "language_info": {
   "codemirror_mode": {
    "name": "ipython",
    "version": 3
   },
   "file_extension": ".py",
   "mimetype": "text/x-python",
   "name": "python",
   "nbconvert_exporter": "python",
   "pygments_lexer": "ipython3",
   "version": "3.10.8"
  }
 },
 "nbformat": 4,
 "nbformat_minor": 5
}
