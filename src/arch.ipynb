{
 "cells": [
  {
   "cell_type": "markdown",
   "id": "986d144f-3f19-4aac-ba1b-423fde33b929",
   "metadata": {},
   "source": [
    "# Imports"
   ]
  },
  {
   "cell_type": "code",
   "execution_count": 1,
   "id": "db59f521-ebed-4bfd-afb6-958c4c0e7260",
   "metadata": {},
   "outputs": [],
   "source": [
    "import arch\n",
    "import pandas\n",
    "import numpy\n",
    "import data_massage\n",
    "import itertools\n",
    "import matplotlib.pyplot as plt"
   ]
  },
  {
   "cell_type": "code",
   "execution_count": 2,
   "id": "e626d464-c60f-4c4d-9a0b-21d44d6b4db3",
   "metadata": {},
   "outputs": [],
   "source": [
    "metadata, full_data, induction_only = data_massage.load_data()\n",
    "summarized_data = data_massage.summarize_data(metadata, induction_only)"
   ]
  },
  {
   "cell_type": "code",
   "execution_count": 34,
   "id": "25c9969a-aed8-4a59-9926-80181015d87a",
   "metadata": {},
   "outputs": [
    {
     "name": "stdout",
     "output_type": "stream",
     "text": [
      "Iteration:      1,   Func. Count:      8,   Neg. LLF: 21468501297.721035\n",
      "Iteration:      2,   Func. Count:     24,   Neg. LLF: 470040.49450946215\n",
      "Optimization terminated successfully    (Exit mode 0)\n",
      "            Current function value: 470040.48910876835\n",
      "            Iterations: 6\n",
      "            Function evaluations: 24\n",
      "            Gradient evaluations: 2\n",
      "Iteration:      1,   Func. Count:      8,   Neg. LLF: 2.0991271290200437e+19\n",
      "Iteration:      2,   Func. Count:     21,   Neg. LLF: 21215619901178.324\n",
      "Iteration:      3,   Func. Count:     30,   Neg. LLF: 4362302284.655965\n",
      "Iteration:      4,   Func. Count:     46,   Neg. LLF: 1019715407.1131815\n",
      "Iteration:      5,   Func. Count:     60,   Neg. LLF: 579338.2665564453\n",
      "Optimization terminated successfully    (Exit mode 0)\n",
      "            Current function value: 579338.2625170475\n",
      "            Iterations: 9\n",
      "            Function evaluations: 60\n",
      "            Gradient evaluations: 5\n",
      "Iteration:      1,   Func. Count:      8,   Neg. LLF: 66708925628.98814\n",
      "Iteration:      2,   Func. Count:     23,   Neg. LLF: 158525314270.30847\n",
      "Iteration:      3,   Func. Count:     37,   Neg. LLF: 8.85550783151533e+18\n",
      "Iteration:      4,   Func. Count:     50,   Neg. LLF: 4.187278884867204e+16\n",
      "Iteration:      5,   Func. Count:     61,   Neg. LLF: 128726.89457957243\n",
      "Optimization terminated successfully    (Exit mode 0)\n",
      "            Current function value: 128726.89178874585\n",
      "            Iterations: 9\n",
      "            Function evaluations: 61\n",
      "            Gradient evaluations: 5\n"
     ]
    }
   ],
   "source": [
    "banana_data = induction_only[induction_only[\"label\"] == \"banana\"]\n",
    "wine_data = induction_only[induction_only[\"label\"] == \"wine\"]\n",
    "background_data = induction_only[induction_only[\"label\"] == \"background\"]\n",
    "\n",
    "cache = {}\n",
    "\n",
    "for label in full_data[\"label\"].unique():\n",
    "    model = arch.arch_model(full_data[full_data[\"label\"] == label][\"R_mean\"], vol=\"Garch\", p=2, q=2)\n",
    "    results = model.fit()\n",
    "    cache[label] = {\"results\": results, \"model\": model}"
   ]
  },
  {
   "cell_type": "code",
   "execution_count": 35,
   "id": "344af0c3-46b3-4e41-beb0-765a77f30e5b",
   "metadata": {},
   "outputs": [
    {
     "name": "stdout",
     "output_type": "stream",
     "text": [
      "banana                      Constant Mean - GARCH Model Results                      \n",
      "==============================================================================\n",
      "Dep. Variable:                 R_mean   R-squared:                       0.000\n",
      "Mean Model:             Constant Mean   Adj. R-squared:                  0.000\n",
      "Vol Model:                      GARCH   Log-Likelihood:               -470040.\n",
      "Distribution:                  Normal   AIC:                           940093.\n",
      "Method:            Maximum Likelihood   BIC:                           940157.\n",
      "                                        No. Observations:               305444\n",
      "Date:                Sun, Nov 27 2022   Df Residuals:                   305443\n",
      "Time:                        12:42:32   Df Model:                            1\n",
      "                               Mean Model                               \n",
      "========================================================================\n",
      "                 coef    std err          t      P>|t|  95.0% Conf. Int.\n",
      "------------------------------------------------------------------------\n",
      "mu            10.1998  2.164e-03   4714.089      0.000 [ 10.196, 10.204]\n",
      "                             Volatility Model                             \n",
      "==========================================================================\n",
      "                 coef    std err          t      P>|t|    95.0% Conf. Int.\n",
      "--------------------------------------------------------------------------\n",
      "omega          0.1828  3.608e-04    506.597      0.000   [  0.182,  0.183]\n",
      "alpha[1]       0.1000  3.313e-02      3.019  2.536e-03 [3.508e-02,  0.165]\n",
      "alpha[2]       0.1000  3.322e-02      3.010  2.611e-03 [3.489e-02,  0.165]\n",
      "beta[1]        0.3900      0.181      2.159  3.082e-02 [3.601e-02,  0.744]\n",
      "beta[2]        0.3900      0.181      2.160  3.076e-02 [3.615e-02,  0.744]\n",
      "==========================================================================\n",
      "\n",
      "Covariance estimator: robust\n",
      "wine                      Constant Mean - GARCH Model Results                      \n",
      "==============================================================================\n",
      "Dep. Variable:                 R_mean   R-squared:                       0.000\n",
      "Mean Model:             Constant Mean   Adj. R-squared:                  0.000\n",
      "Vol Model:                      GARCH   Log-Likelihood:               -579338.\n",
      "Distribution:                  Normal   AIC:                       1.15869e+06\n",
      "Method:            Maximum Likelihood   BIC:                       1.15875e+06\n",
      "                                        No. Observations:               346580\n",
      "Date:                Sun, Nov 27 2022   Df Residuals:                   346579\n",
      "Time:                        12:42:33   Df Model:                            1\n",
      "                               Mean Model                               \n",
      "========================================================================\n",
      "                 coef    std err          t      P>|t|  95.0% Conf. Int.\n",
      "------------------------------------------------------------------------\n",
      "mu            10.0022  3.297e-03   3033.309      0.000 [  9.996, 10.009]\n",
      "                             Volatility Model                             \n",
      "==========================================================================\n",
      "                 coef    std err          t      P>|t|    95.0% Conf. Int.\n",
      "--------------------------------------------------------------------------\n",
      "omega          0.2568  5.378e-04    477.526      0.000   [  0.256,  0.258]\n",
      "alpha[1]       0.0953  4.522e-02      2.108  3.507e-02 [6.673e-03,  0.184]\n",
      "alpha[2]       0.0953  4.533e-02      2.103  3.549e-02 [6.469e-03,  0.184]\n",
      "beta[1]        0.3716      0.107      3.478  5.045e-04   [  0.162,  0.581]\n",
      "beta[2]        0.3716      0.107      3.481  5.001e-04   [  0.162,  0.581]\n",
      "==========================================================================\n",
      "\n",
      "Covariance estimator: robust\n",
      "background                      Constant Mean - GARCH Model Results                      \n",
      "==============================================================================\n",
      "Dep. Variable:                 R_mean   R-squared:                       0.000\n",
      "Mean Model:             Constant Mean   Adj. R-squared:                  0.000\n",
      "Vol Model:                      GARCH   Log-Likelihood:               -128727.\n",
      "Distribution:                  Normal   AIC:                           257466.\n",
      "Method:            Maximum Likelihood   BIC:                           257529.\n",
      "                                        No. Observations:               276967\n",
      "Date:                Sun, Nov 27 2022   Df Residuals:                   276966\n",
      "Time:                        12:42:34   Df Model:                            1\n",
      "                               Mean Model                               \n",
      "========================================================================\n",
      "                 coef    std err          t      P>|t|  95.0% Conf. Int.\n",
      "------------------------------------------------------------------------\n",
      "mu            10.5734  1.957e-03   5401.780      0.000 [ 10.570, 10.577]\n",
      "                              Volatility Model                              \n",
      "============================================================================\n",
      "                 coef    std err          t      P>|t|      95.0% Conf. Int.\n",
      "----------------------------------------------------------------------------\n",
      "omega      9.7269e-03  4.007e-05    242.764      0.000 [9.648e-03,9.805e-03]\n",
      "alpha[1]       0.1000  2.955e-02      3.384  7.146e-04   [4.208e-02,  0.158]\n",
      "alpha[2]       0.1000  2.964e-02      3.374  7.410e-04   [4.191e-02,  0.158]\n",
      "beta[1]        0.3900      0.241      1.616      0.106  [-8.294e-02,  0.863]\n",
      "beta[2]        0.3900      0.241      1.618      0.106  [-8.252e-02,  0.862]\n",
      "============================================================================\n",
      "\n",
      "Covariance estimator: robust\n"
     ]
    }
   ],
   "source": [
    "for label in cache:\n",
    "    print(label, cache[label][\"results\"].summary())"
   ]
  }
 ],
 "metadata": {
  "kernelspec": {
   "display_name": "Python 3 (ipykernel)",
   "language": "python",
   "name": "python3"
  },
  "language_info": {
   "codemirror_mode": {
    "name": "ipython",
    "version": 3
   },
   "file_extension": ".py",
   "mimetype": "text/x-python",
   "name": "python",
   "nbconvert_exporter": "python",
   "pygments_lexer": "ipython3",
   "version": "3.10.8"
  }
 },
 "nbformat": 4,
 "nbformat_minor": 5
}
