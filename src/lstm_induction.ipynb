{
 "cells": [
  {
   "cell_type": "markdown",
   "id": "986d144f-3f19-4aac-ba1b-423fde33b929",
   "metadata": {},
   "source": [
    "# Imports"
   ]
  },
  {
   "cell_type": "code",
   "execution_count": null,
   "id": "db59f521-ebed-4bfd-afb6-958c4c0e7260",
   "metadata": {},
   "outputs": [],
   "source": [
    "from sklearn.model_selection import train_test_split\n",
    "from sklearn.preprocessing import LabelEncoder\n",
    "from keras.models import Sequential\n",
    "from keras.layers import Dense, Dropout, LSTM, Flatten\n",
    "import pandas\n",
    "import numpy\n",
    "import data_massage\n",
    "import itertools\n",
    "import matplotlib.pyplot as plt"
   ]
  },
  {
   "cell_type": "code",
   "execution_count": null,
   "id": "dba964ce-2a80-4bc6-a360-827cde0674ca",
   "metadata": {},
   "outputs": [],
   "source": [
    "import tensorflow as tf\n",
    "\n",
    "# tensorflow on my laptop seems to not obtain the correct amount of memory\n",
    "# the GPU on it has 2G, but asking for 1300 was too much, 1000 worked, so there you go\n",
    "gpus = tf.config.experimental.list_physical_devices('GPU')\n",
    "tf.config.experimental.set_virtual_device_configuration(\n",
    "          gpus[0], [tf.config.experimental.VirtualDeviceConfiguration(memory_limit=1000)])"
   ]
  },
  {
   "cell_type": "code",
   "execution_count": null,
   "id": "e626d464-c60f-4c4d-9a0b-21d44d6b4db3",
   "metadata": {},
   "outputs": [],
   "source": [
    "metadata, full_data, induction_only = data_massage.load_data()\n",
    "summarized_data = data_massage.summarize_data(metadata, induction_only)\n",
    "\n",
    "lstm_data = induction_only\n",
    "features = sorted([\"R_mean\", \"Temp.\", \"Humidity\"])\n",
    "\n",
    "hidden_layers = tuple(map(lambda p: (len(features) ** p), [3,4,5,4,3]))\n",
    "feature_permutations = list(itertools.chain.from_iterable(map(lambda r: itertools.combinations(features, r), range(1, 1 + len(features)))))"
   ]
  },
  {
   "cell_type": "code",
   "execution_count": null,
   "id": "25c9969a-aed8-4a59-9926-80181015d87a",
   "metadata": {},
   "outputs": [],
   "source": [
    "results = {}\n",
    "\n",
    "for perm in feature_permutations:\n",
    "    feature_set = list(perm)\n",
    "    lstm_train_x, lstm_test_x, lstm_train_y, lstm_test_y = train_test_split(\n",
    "          lstm_data[feature_set]\n",
    "        , lstm_data[\"label\"]\n",
    "        , test_size=0.2\n",
    "        , stratify=lstm_data[\"label\"]\n",
    "        , random_state=7\n",
    "    )\n",
    "\n",
    "    label_encoder = LabelEncoder()\n",
    "    label_encoder.fit(lstm_train_y)\n",
    "    label_encoder.classes_\n",
    "    lstm_train_y = label_encoder.transform(lstm_train_y)\n",
    "    lstm_test_y = label_encoder.transform(lstm_test_y)\n",
    "    \n",
    "    model = Sequential()\n",
    "    model.add(LSTM(units = lstm_train_x.shape[1], return_sequences = True, input_shape=(lstm_train_x.shape[1],1)))\n",
    "    model.add(Dropout(0.2))\n",
    "    model.add(LSTM(units = lstm_train_x.shape[1] ** 2, return_sequences = True))\n",
    "    model.add(Dropout(0.2))\n",
    "    model.add(LSTM(units = lstm_train_x.shape[1] ** 3, return_sequences = True))\n",
    "    model.add(Dropout(0.2))\n",
    "    model.add(LSTM(units = lstm_train_x.shape[1]))\n",
    "    model.add(Dropout(0.2))\n",
    "    model.add(Flatten())\n",
    "    # Adding the output layer\n",
    "    model.add(Dense(units = lstm_train_x.shape[1]))\n",
    "\n",
    "    # Compiling the RNN\n",
    "    model.compile(optimizer = 'adam', loss = 'mean_squared_error', metrics=['accuracy'])\n",
    "\n",
    "    # Fitting the RNN to the Training set\n",
    "    model.fit(lstm_train_x, lstm_train_y, epochs = 30, batch_size = 4, verbose=False)\n",
    "    \n",
    "    model.evaluate(lstm_test_x, lstm_test_y)\n",
    "    \n",
    "    key = ','.join(feature_set)\n",
    "    results[key] = {\"evaluation\": model.evaluate(lstm_test_x, lstm_test_y)}\n",
    "    \n",
    "    print(key)\n",
    "    print(results[key][\"evaluation\"])\n",
    "    print(\"\\n\\n\\n\")"
   ]
  }
 ],
 "metadata": {
  "kernelspec": {
   "display_name": "Python 3 (ipykernel)",
   "language": "python",
   "name": "python3"
  },
  "language_info": {
   "codemirror_mode": {
    "name": "ipython",
    "version": 3
   },
   "file_extension": ".py",
   "mimetype": "text/x-python",
   "name": "python",
   "nbconvert_exporter": "python",
   "pygments_lexer": "ipython3",
   "version": "3.10.8"
  }
 },
 "nbformat": 4,
 "nbformat_minor": 5
}
