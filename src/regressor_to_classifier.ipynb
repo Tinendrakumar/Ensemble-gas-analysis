{
 "cells": [
  {
   "cell_type": "markdown",
   "id": "986d144f-3f19-4aac-ba1b-423fde33b929",
   "metadata": {},
   "source": [
    "# Imports"
   ]
  },
  {
   "cell_type": "code",
   "execution_count": 1,
   "id": "db59f521-ebed-4bfd-afb6-958c4c0e7260",
   "metadata": {},
   "outputs": [],
   "source": [
    "from sklearn.metrics import classification_report\n",
    "from sklearn.model_selection import train_test_split\n",
    "from sklearn.neighbors import KNeighborsClassifier\n",
    "from sklearn.svm import SVC\n",
    "import pandas\n",
    "import numpy\n",
    "import data_massage\n",
    "import itertools\n",
    "import matplotlib.pyplot as plt\n",
    "import arch\n",
    "import pmdarima"
   ]
  },
  {
   "cell_type": "code",
   "execution_count": 2,
   "id": "e626d464-c60f-4c4d-9a0b-21d44d6b4db3",
   "metadata": {},
   "outputs": [],
   "source": [
    "metadata, full_data, induction_only = data_massage.load_data()\n",
    "summarized_data = data_massage.summarize_data(metadata, induction_only)\n",
    "cache = {}\n",
    "\n",
    "features = [\"R_mean\", \"Temp.\", \"Humidity\"]\n",
    "banana_data = induction_only[induction_only[\"label\"] == \"banana\"]\n",
    "wine_data = induction_only[induction_only[\"label\"] == \"wine\"]\n",
    "background_data = induction_only[induction_only[\"label\"] == \"background\"]"
   ]
  },
  {
   "cell_type": "code",
   "execution_count": 3,
   "id": "a576d78d-f2eb-4cc5-9063-a4626ad955ff",
   "metadata": {},
   "outputs": [],
   "source": [
    "def garch_synthetic():\n",
    "    banana_garch = arch.arch_model(banana_data[\"R_mean\"], vol=\"Garch\", p=2, q=2)\n",
    "    wine_garch = arch.arch_model(wine_data[\"R_mean\"], vol=\"Garch\", p=2, q=2)\n",
    "    background_garch = arch.arch_model(background_data[\"R_mean\"], vol=\"Garch\", p=2, q=2)\n",
    "\n",
    "    banana_garch_results = banana_garch.fit()\n",
    "    wine_garch_results = wine_garch.fit()\n",
    "    background_garch_results = background_garch.fit()\n",
    "\n",
    "    banana_forecast = banana_garch_results.forecast(horizon=int(0.2 * (len(banana_data) / 0.8)), reindex=False)\n",
    "    wine_forecast = wine_garch_results.forecast(horizon=int(0.2 * (len(wine_data) / 0.8)), reindex=False)\n",
    "    background_forecast = background_garch_results.forecast(horizon=int(0.2 * (len(background_data) / 0.8)), reindex=False)\n",
    "\n",
    "    banana_synthetic_values = numpy.unique((banana_forecast.mean + banana_forecast.variance).values[0])\n",
    "    wine_synthetic_values = numpy.unique((wine_forecast.mean + wine_forecast.variance).values[0])\n",
    "    background_synthetic_values = numpy.unique((background_forecast.mean + background_forecast.variance).values[0])\n",
    "\n",
    "    banana_synthetic_df = pandas.DataFrame({\"R_mean\": banana_synthetic_values})\n",
    "    banana_synthetic_df[\"Label\"] = \"banana\"\n",
    "    wine_synthetic_df = pandas.DataFrame({\"R_mean\": wine_synthetic_values})\n",
    "    wine_synthetic_df[\"Label\"] = \"wine\"\n",
    "    background_synthetic_df = pandas.DataFrame({\"R_mean\": background_synthetic_values})\n",
    "    background_synthetic_df[\"Label\"] = \"background\"\n",
    "\n",
    "    return pandas.concat([banana_synthetic_df, wine_synthetic_df, background_synthetic_df])\n",
    "\n",
    "\n",
    "def arima_synthetic():\n",
    "    banana_model = pmdarima.arima.ARIMA(order=(1,1,1))\n",
    "    wine_model = pmdarima.arima.ARIMA(order=(1,1,1))\n",
    "    background_model = pmdarima.arima.ARIMA(order=(1,1,1))\n",
    "    \n",
    "    banana_model.fit(banana_data[\"R_mean\"])\n",
    "    wine_model.fit(wine_data[\"R_mean\"])\n",
    "    background_model.fit(background_data[\"R_mean\"])\n",
    "    \n",
    "    banana_synthetic_values = numpy.unique(banana_model.predict(int(0.2 * (len(banana_data) / 0.8))))\n",
    "    wine_synthetic_values = numpy.unique(wine_model.predict(int(0.2 * (len(wine_data) / 0.8))))\n",
    "    background_synthetic_values = numpy.unique(background_model.predict(int(0.2 * (len(background_data) / 0.8))))\n",
    "\n",
    "    banana_synthetic_df = pandas.DataFrame({\"R_mean\": banana_synthetic_values})\n",
    "    banana_synthetic_df[\"Label\"] = \"banana\"\n",
    "    wine_synthetic_df = pandas.DataFrame({\"R_mean\": wine_synthetic_values})\n",
    "    wine_synthetic_df[\"Label\"] = \"wine\"\n",
    "    background_synthetic_df = pandas.DataFrame({\"R_mean\": background_synthetic_values})\n",
    "    background_synthetic_df[\"Label\"] = \"background\"\n",
    "    \n",
    "    return pandas.concat([banana_synthetic_df, wine_synthetic_df, background_synthetic_df])"
   ]
  },
  {
   "cell_type": "code",
   "execution_count": 4,
   "id": "b315e649-f02e-49ab-a87b-fb9c28c9c3df",
   "metadata": {},
   "outputs": [
    {
     "name": "stdout",
     "output_type": "stream",
     "text": [
      "Iteration:      1,   Func. Count:      8,   Neg. LLF: 15948677964.431498\n",
      "Iteration:      2,   Func. Count:     25,   Neg. LLF: 253545815232.1062\n",
      "Iteration:      3,   Func. Count:     33,   Neg. LLF: 77562599.69554912\n",
      "Iteration:      4,   Func. Count:     43,   Neg. LLF: 110359715.30174972\n",
      "Iteration:      5,   Func. Count:     55,   Neg. LLF: 259303.16970806097\n",
      "Optimization terminated successfully    (Exit mode 0)\n",
      "            Current function value: 259303.16833332097\n",
      "            Iterations: 9\n",
      "            Function evaluations: 55\n",
      "            Gradient evaluations: 5\n",
      "Iteration:      1,   Func. Count:      8,   Neg. LLF: 237144836.1078586\n",
      "Iteration:      2,   Func. Count:     23,   Neg. LLF: 2712767.356171289\n",
      "Iteration:      3,   Func. Count:     36,   Neg. LLF: 387151.78015036375\n",
      "Iteration:      4,   Func. Count:     43,   Neg. LLF: 3131168.8411775925\n",
      "Iteration:      5,   Func. Count:     54,   Neg. LLF: 5842068.579411248\n",
      "Iteration:      6,   Func. Count:     65,   Neg. LLF: 387105.71177023643\n",
      "Optimization terminated successfully    (Exit mode 0)\n",
      "            Current function value: 387105.70898484264\n",
      "            Iterations: 10\n",
      "            Function evaluations: 65\n",
      "            Gradient evaluations: 6\n",
      "Iteration:      1,   Func. Count:      8,   Neg. LLF: 8541783130.65858\n",
      "Iteration:      2,   Func. Count:     22,   Neg. LLF: 722447239.4406563\n",
      "Iteration:      3,   Func. Count:     34,   Neg. LLF: 41900072109.97624\n",
      "Iteration:      4,   Func. Count:     48,   Neg. LLF: 1.1740774114500856e+17\n",
      "Iteration:      5,   Func. Count:     60,   Neg. LLF: 16172298653.343\n",
      "Iteration:      6,   Func. Count:     75,   Neg. LLF: 62357171572.96802\n",
      "Iteration:      7,   Func. Count:     90,   Neg. LLF: 130974206893.35359\n",
      "Iteration:      8,   Func. Count:    106,   Neg. LLF: 3.564597741195723e+16\n",
      "Iteration:      9,   Func. Count:    117,   Neg. LLF: 3663593149.0158434\n",
      "Iteration:     10,   Func. Count:    129,   Neg. LLF: 63273.96591128824\n",
      "Optimization terminated successfully    (Exit mode 0)\n",
      "            Current function value: 63273.96457523104\n",
      "            Iterations: 14\n",
      "            Function evaluations: 129\n",
      "            Gradient evaluations: 10\n"
     ]
    },
    {
     "name": "stderr",
     "output_type": "stream",
     "text": [
      "/home/saba/.local/lib/python3.10/site-packages/statsmodels/tsa/base/tsa_model.py:471: ValueWarning: An unsupported index was provided and will be ignored when e.g. forecasting.\n",
      "  self._init_dates(dates, freq)\n",
      "/home/saba/.local/lib/python3.10/site-packages/statsmodels/tsa/base/tsa_model.py:471: ValueWarning: An unsupported index was provided and will be ignored when e.g. forecasting.\n",
      "  self._init_dates(dates, freq)\n",
      "/home/saba/.local/lib/python3.10/site-packages/statsmodels/tsa/base/tsa_model.py:471: ValueWarning: An unsupported index was provided and will be ignored when e.g. forecasting.\n",
      "  self._init_dates(dates, freq)\n",
      "/home/saba/.local/lib/python3.10/site-packages/statsmodels/tsa/base/tsa_model.py:471: ValueWarning: An unsupported index was provided and will be ignored when e.g. forecasting.\n",
      "  self._init_dates(dates, freq)\n",
      "/home/saba/.local/lib/python3.10/site-packages/statsmodels/tsa/base/tsa_model.py:471: ValueWarning: An unsupported index was provided and will be ignored when e.g. forecasting.\n",
      "  self._init_dates(dates, freq)\n",
      "/home/saba/.local/lib/python3.10/site-packages/statsmodels/tsa/base/tsa_model.py:471: ValueWarning: An unsupported index was provided and will be ignored when e.g. forecasting.\n",
      "  self._init_dates(dates, freq)\n",
      "/home/saba/.local/lib/python3.10/site-packages/statsmodels/tsa/base/tsa_model.py:834: ValueWarning: No supported index is available. Prediction results will be given with an integer index beginning at `start`.\n",
      "  return get_prediction_index(\n",
      "/home/saba/.local/lib/python3.10/site-packages/statsmodels/tsa/base/tsa_model.py:834: ValueWarning: No supported index is available. Prediction results will be given with an integer index beginning at `start`.\n",
      "  return get_prediction_index(\n",
      "/home/saba/.local/lib/python3.10/site-packages/statsmodels/tsa/base/tsa_model.py:834: ValueWarning: No supported index is available. Prediction results will be given with an integer index beginning at `start`.\n",
      "  return get_prediction_index(\n"
     ]
    }
   ],
   "source": [
    "garch_synthetic_dataset = garch_synthetic()\n",
    "arima_synthetic_dataset = arima_synthetic()"
   ]
  },
  {
   "cell_type": "code",
   "execution_count": 5,
   "id": "bd8a73f9-f447-4be1-bf99-f7fde11c2fb5",
   "metadata": {},
   "outputs": [],
   "source": [
    "garch_train_x, garch_test_x, garch_train_y, garch_test_y = train_test_split(\n",
    "      garch_synthetic_dataset[\"R_mean\"]\n",
    "    , garch_synthetic_dataset[\"Label\"]\n",
    "    , test_size=0.2\n",
    "    , stratify=garch_synthetic_dataset[\"Label\"]\n",
    "    , random_state=7\n",
    ")\n",
    "\n",
    "arima_train_x, arima_test_x, arima_train_y, arima_test_y = train_test_split(\n",
    "      arima_synthetic_dataset[\"R_mean\"]\n",
    "    , arima_synthetic_dataset[\"Label\"]\n",
    "    , test_size=0.2\n",
    "    , stratify=arima_synthetic_dataset[\"Label\"]\n",
    "    , random_state=7\n",
    ")"
   ]
  },
  {
   "cell_type": "code",
   "execution_count": 25,
   "id": "c9ccec5d-bd89-4840-b355-21fc8aaac92e",
   "metadata": {},
   "outputs": [
    {
     "data": {
      "image/png": "[encoded data removed]",
      "text/plain": [
       "<Figure size 640x480 with 1 Axes>"
      ]
     },
     "metadata": {},
     "output_type": "display_data"
    },
    {
     "data": {
      "image/png": "[encoded data removed]",
      "text/plain": [
       "<Figure size 640x480 with 1 Axes>"
      ]
     },
     "metadata": {},
     "output_type": "display_data"
    }
   ],
   "source": [
    "for label in garch_synthetic_dataset[\"Label\"].unique():\n",
    "    dataset = garch_synthetic_dataset[garch_synthetic_dataset[\"Label\"] == label]\n",
    "    plt.scatter(range(len(dataset)), dataset[\"R_mean\"], label=\"garch_{}\".format(label))\n",
    "\n",
    "plt.legend()\n",
    "plt.show()\n",
    "\n",
    "for label in arima_synthetic_dataset[\"Label\"].unique():\n",
    "    dataset = arima_synthetic_dataset[arima_synthetic_dataset[\"Label\"] == label]\n",
    "    plt.scatter(range(len(dataset)), dataset[\"R_mean\"], label=\"arima_{}\".format(label))\n",
    "\n",
    "plt.legend()\n",
    "plt.show()"
   ]
  },
  {
   "cell_type": "code",
   "execution_count": 9,
   "id": "8e11e821-288b-4afb-857f-45d0c9e8ad62",
   "metadata": {},
   "outputs": [
    {
     "name": "stdout",
     "output_type": "stream",
     "text": [
      "4308 146641\n",
      "368\n",
      "1873\n",
      "2067\n",
      "47776\n",
      "56337\n",
      "42528\n"
     ]
    }
   ],
   "source": [
    "print(len(garch_synthetic_dataset), len(arima_synthetic_dataset))\n",
    "print(len(garch_synthetic_dataset[garch_synthetic_dataset[\"Label\"] == \"banana\"]))\n",
    "print(len(garch_synthetic_dataset[garch_synthetic_dataset[\"Label\"] == \"wine\"]))\n",
    "print(len(garch_synthetic_dataset[garch_synthetic_dataset[\"Label\"] == \"background\"]))\n",
    "print(len(arima_synthetic_dataset[arima_synthetic_dataset[\"Label\"] == \"banana\"]))\n",
    "print(len(arima_synthetic_dataset[arima_synthetic_dataset[\"Label\"] == \"wine\"]))\n",
    "print(len(arima_synthetic_dataset[arima_synthetic_dataset[\"Label\"] == \"background\"]))"
   ]
  },
  {
   "cell_type": "code",
   "execution_count": 10,
   "id": "b954eee2-7b8d-43af-9b06-c5da85959e15",
   "metadata": {},
   "outputs": [
    {
     "name": "stdout",
     "output_type": "stream",
     "text": [
      "              precision    recall  f1-score   support\n",
      "\n",
      "  background       0.99      1.00      0.99       413\n",
      "      banana       0.99      0.96      0.97        74\n",
      "        wine       1.00      0.99      0.99       375\n",
      "\n",
      "    accuracy                           0.99       862\n",
      "   macro avg       0.99      0.98      0.99       862\n",
      "weighted avg       0.99      0.99      0.99       862\n",
      "\n"
     ]
    }
   ],
   "source": [
    "garch_svc = SVC(C=1.0, gamma=\"auto\", kernel=\"rbf\", probability=True, tol=0.01)\n",
    "garch_svc.fit(garch_train_x.values.reshape(-1, 1), garch_train_y)\n",
    "garch_svc_prediction = garch_svc.predict(garch_test_x.values.reshape(-1, 1))\n",
    "print(classification_report(garch_test_y, garch_svc_prediction, zero_division=0))"
   ]
  },
  {
   "cell_type": "code",
   "execution_count": 15,
   "id": "496b7c88-c56d-45ee-b748-8567ff2140e0",
   "metadata": {},
   "outputs": [
    {
     "name": "stdout",
     "output_type": "stream",
     "text": [
      "              precision    recall  f1-score   support\n",
      "\n",
      "  background       1.00      1.00      1.00      8506\n",
      "      banana       0.58      0.99      0.73      9555\n",
      "        wine       0.97      0.39      0.56     11268\n",
      "\n",
      "    accuracy                           0.76     29329\n",
      "   macro avg       0.85      0.79      0.76     29329\n",
      "weighted avg       0.85      0.76      0.74     29329\n",
      "\n"
     ]
    }
   ],
   "source": [
    "arima_svc = SVC(C=1.0, gamma=\"auto\", kernel=\"rbf\", probability=True, tol=0.01)\n",
    "arima_svc.fit(arima_train_x.values.reshape(-1, 1), arima_train_y)\n",
    "arima_svc_prediction = arima_svc.predict(arima_test_x.values.reshape(-1, 1))\n",
    "print(classification_report(arima_test_y, arima_svc_prediction, zero_division=0))"
   ]
  },
  {
   "cell_type": "code",
   "execution_count": 12,
   "id": "7ab4e2a7-cfc8-4a20-a7a8-d860274fb8b5",
   "metadata": {},
   "outputs": [
    {
     "name": "stdout",
     "output_type": "stream",
     "text": [
      "              precision    recall  f1-score   support\n",
      "\n",
      "  background       1.00      1.00      1.00       413\n",
      "      banana       0.95      0.97      0.96        74\n",
      "        wine       1.00      0.99      0.99       375\n",
      "\n",
      "    accuracy                           0.99       862\n",
      "   macro avg       0.98      0.99      0.98       862\n",
      "weighted avg       0.99      0.99      0.99       862\n",
      "\n"
     ]
    }
   ],
   "source": [
    "garch_knn = KNeighborsClassifier(algorithm=\"auto\", n_neighbors=7, weights=\"uniform\")\n",
    "garch_knn.fit(garch_train_x.values.reshape(-1, 1), garch_train_y)\n",
    "garch_knn_prediction = garch_knn.predict(garch_test_x.values.reshape(-1, 1))\n",
    "print(classification_report(garch_test_y, garch_knn_prediction))"
   ]
  },
  {
   "cell_type": "code",
   "execution_count": 14,
   "id": "61388a2b-6874-48d5-8630-c7e8f17d44ad",
   "metadata": {},
   "outputs": [
    {
     "name": "stdout",
     "output_type": "stream",
     "text": [
      "              precision    recall  f1-score   support\n",
      "\n",
      "  background       1.00      1.00      1.00      8506\n",
      "      banana       0.49      0.62      0.55      9555\n",
      "        wine       0.58      0.44      0.50     11268\n",
      "\n",
      "    accuracy                           0.66     29329\n",
      "   macro avg       0.69      0.69      0.68     29329\n",
      "weighted avg       0.67      0.66      0.66     29329\n",
      "\n"
     ]
    }
   ],
   "source": [
    "arima_knn = KNeighborsClassifier(algorithm=\"auto\", n_neighbors=7, weights=\"uniform\")\n",
    "arima_knn.fit(arima_train_x.values.reshape(-1, 1), arima_train_y)\n",
    "arima_knn_prediction = arima_knn.predict(arima_test_x.values.reshape(-1, 1))\n",
    "print(classification_report(arima_test_y, arima_knn_prediction))"
   ]
  }
 ],
 "metadata": {
  "kernelspec": {
   "display_name": "Python 3 (ipykernel)",
   "language": "python",
   "name": "python3"
  },
  "language_info": {
   "codemirror_mode": {
    "name": "ipython",
    "version": 3
   },
   "file_extension": ".py",
   "mimetype": "text/x-python",
   "name": "python",
   "nbconvert_exporter": "python",
   "pygments_lexer": "ipython3",
   "version": "3.10.8"
  }
 },
 "nbformat": 4,
 "nbformat_minor": 5
}
